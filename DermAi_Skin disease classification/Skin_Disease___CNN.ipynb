{
  "cells": [
    {
      "cell_type": "code",
      "execution_count": 1,
      "metadata": {
        "colab": {
          "base_uri": "https://localhost:8080/"
        },
        "id": "oX5U0DbqUwq9",
        "outputId": "6a5e4e0e-8497-422f-88c6-0b5b35cae8bd"
      },
      "outputs": [
        {
          "name": "stderr",
          "output_type": "stream",
          "text": [
            "The system cannot find the path specified.\n"
          ]
        },
        {
          "ename": "OSError",
          "evalue": "[WinError 1314] A required privilege is not held by the client: '/kaggle/input' -> '..\\\\input'",
          "output_type": "error",
          "traceback": [
            "\u001b[1;31m---------------------------------------------------------------------------\u001b[0m",
            "\u001b[1;31mOSError\u001b[0m                                   Traceback (most recent call last)",
            "Cell \u001b[1;32mIn[1], line 31\u001b[0m\n\u001b[0;32m     28\u001b[0m os\u001b[38;5;241m.\u001b[39mmakedirs(KAGGLE_WORKING_PATH, \u001b[38;5;241m0o777\u001b[39m, exist_ok\u001b[38;5;241m=\u001b[39m\u001b[38;5;28;01mTrue\u001b[39;00m)\n\u001b[0;32m     30\u001b[0m \u001b[38;5;28;01mtry\u001b[39;00m:\n\u001b[1;32m---> 31\u001b[0m   \u001b[43mos\u001b[49m\u001b[38;5;241;43m.\u001b[39;49m\u001b[43msymlink\u001b[49m\u001b[43m(\u001b[49m\u001b[43mKAGGLE_INPUT_PATH\u001b[49m\u001b[43m,\u001b[49m\u001b[43m \u001b[49m\u001b[43mos\u001b[49m\u001b[38;5;241;43m.\u001b[39;49m\u001b[43mpath\u001b[49m\u001b[38;5;241;43m.\u001b[39;49m\u001b[43mjoin\u001b[49m\u001b[43m(\u001b[49m\u001b[38;5;124;43m\"\u001b[39;49m\u001b[38;5;124;43m..\u001b[39;49m\u001b[38;5;124;43m\"\u001b[39;49m\u001b[43m,\u001b[49m\u001b[43m \u001b[49m\u001b[38;5;124;43m'\u001b[39;49m\u001b[38;5;124;43minput\u001b[39;49m\u001b[38;5;124;43m'\u001b[39;49m\u001b[43m)\u001b[49m\u001b[43m,\u001b[49m\u001b[43m \u001b[49m\u001b[43mtarget_is_directory\u001b[49m\u001b[38;5;241;43m=\u001b[39;49m\u001b[38;5;28;43;01mTrue\u001b[39;49;00m\u001b[43m)\u001b[49m\n\u001b[0;32m     32\u001b[0m \u001b[38;5;28;01mexcept\u001b[39;00m \u001b[38;5;167;01mFileExistsError\u001b[39;00m:\n\u001b[0;32m     33\u001b[0m   \u001b[38;5;28;01mpass\u001b[39;00m\n",
            "\u001b[1;31mOSError\u001b[0m: [WinError 1314] A required privilege is not held by the client: '/kaggle/input' -> '..\\\\input'"
          ]
        }
      ],
      "source": [
        "\n",
        "# IMPORTANT: RUN THIS CELL IN ORDER TO IMPORT YOUR KAGGLE DATA SOURCES\n",
        "# TO THE CORRECT LOCATION (/kaggle/input) IN YOUR NOTEBOOK,\n",
        "# THEN FEEL FREE TO DELETE THIS CELL.\n",
        "# NOTE: THIS NOTEBOOK ENVIRONMENT DIFFERS FROM KAGGLE'S PYTHON\n",
        "# ENVIRONMENT SO THERE MAY BE MISSING LIBRARIES USED BY YOUR\n",
        "# NOTEBOOK.\n",
        "\n",
        "import os\n",
        "import sys\n",
        "from tempfile import NamedTemporaryFile\n",
        "from urllib.request import urlopen\n",
        "from urllib.parse import unquote, urlparse\n",
        "from urllib.error import HTTPError\n",
        "from zipfile import ZipFile\n",
        "import tarfile\n",
        "import shutil\n",
        "\n",
        "CHUNK_SIZE = 40960\n",
        "DATA_SOURCE_MAPPING = 'skin-disease-classification-image-dataset:https%3A%2F%2Fstorage.googleapis.com%2Fkaggle-data-sets%2F2999773%2F5162051%2Fbundle%2Farchive.zip%3FX-Goog-Algorithm%3DGOOG4-RSA-SHA256%26X-Goog-Credential%3Dgcp-kaggle-com%2540kaggle-161607.iam.gserviceaccount.com%252F20240327%252Fauto%252Fstorage%252Fgoog4_request%26X-Goog-Date%3D20240327T051238Z%26X-Goog-Expires%3D259200%26X-Goog-SignedHeaders%3Dhost%26X-Goog-Signature%3D2998893806a1e613132403135d22744f34909ce3667d4b6bb8b26380138bd115c89dd4b887e8cf98cf9529d05533be15ccdfcb0e4c527e3e12701b1a9a233b01a5106024534708827122bc85c6bcdb1c04843f8d974568d53c52595ced4312383fd01bc7a4cf38f118656ee77e8edb8dd62ff5994167812507c9a14c3d0299b6148fb65b5bc180423d7e8db855282736af320021d9568e88598b6cc78296fd7ba58c9a2c2fa4bc55cf81f283f04bb97f5ebc90f0024125a70f9dd3a087a8bff3d414d2429620c1a41b3ede1bad929aa54ab6eb52b9731c2ac1a2663f9b7fa316d6af6b5577244bbe2c85471b70bc64d5e23e71c4c84a0222439ad8bfb5cd5c58,mobilenet-v1/tensorflow1/100-224-quantops-feature-vector/1:https%3A%2F%2Fstorage.googleapis.com%2Fkaggle-models-data%2F1621%2F2021%2Fbundle%2Farchive.tar.gz%3FX-Goog-Algorithm%3DGOOG4-RSA-SHA256%26X-Goog-Credential%3Dgcp-kaggle-com%2540kaggle-161607.iam.gserviceaccount.com%252F20240327%252Fauto%252Fstorage%252Fgoog4_request%26X-Goog-Date%3D20240327T051238Z%26X-Goog-Expires%3D259200%26X-Goog-SignedHeaders%3Dhost%26X-Goog-Signature%3D72580198a325b91473cb0cc5e0a6e8cdf08f8f01e111a8ff447f62f3fa2529dec02bfe287b27b5f09ebb3eb86cc00c717aa209a8ac44b53b783756e0101c93715a2eb4b96943887c237d17ba3e5428064ebbd05bf44c9695b1749e141487aec350e2ef8ea0b49a58dd3299aa08052bed7d4109fc2bc46c552226d2c37a43c035e5f2e11c0d45b249970692a7adcbeeaddafeaf0a3aa265f21f753cb7b1a3238bdb6e6c6ee5db9ba7ac1c7ea257e864180b03b9e4ce99b57166a79806290166409816ecb55f1069973f205ef1c1ba9691a9a18ea387345ed3bb93c44eaadd7ca49d79ced4d9c8da0b0e1367a85273a985351e5a7969158e35b1901d091f64525e,densenet/tflite/default/1:https%3A%2F%2Fstorage.googleapis.com%2Fkaggle-models-data%2F2342%2F3131%2Fbundle%2Farchive.tar.gz%3FX-Goog-Algorithm%3DGOOG4-RSA-SHA256%26X-Goog-Credential%3Dgcp-kaggle-com%2540kaggle-161607.iam.gserviceaccount.com%252F20240327%252Fauto%252Fstorage%252Fgoog4_request%26X-Goog-Date%3D20240327T051238Z%26X-Goog-Expires%3D259200%26X-Goog-SignedHeaders%3Dhost%26X-Goog-Signature%3D4f5f2b0a1e6fe83b65232201db1982ec39fe3b60e98c0e7946656677df2b92cc3c814be5b298ce35c6807e0b32ead34503089c5c823f75cc058684728fbfc6f3e6494d18d011d3116338a86547715b7aca082d30d17a259073b09353189e1c764c24f7a73b96adf653572793be2fea6614113532c7d5ad15535d79a0c3aaf0c098d99bf6471a4550c93b7afec1175f19659bb53e4c772eab1f1e4f45aade87cdc8d858ae8b4c08ec75b5e1918e717100d34b66dcc9df082a57b1565767a5043fdddd40c7583dc3fad5e24ae21e4a0ba35c494712269b862158f9e002a82affd7f9894166c16729a1d174351e38f6a612e2cef1188b68c5c0a5b01374acdde09c'\n",
        "\n",
        "KAGGLE_INPUT_PATH='/kaggle/input'\n",
        "KAGGLE_WORKING_PATH='/kaggle/working'\n",
        "KAGGLE_SYMLINK='kaggle'\n",
        "\n",
        "!umount /kaggle/input/ 2> /dev/null\n",
        "shutil.rmtree('/kaggle/input', ignore_errors=True)\n",
        "os.makedirs(KAGGLE_INPUT_PATH, 0o777, exist_ok=True)\n",
        "os.makedirs(KAGGLE_WORKING_PATH, 0o777, exist_ok=True)\n",
        "\n",
        "try:\n",
        "  os.symlink(KAGGLE_INPUT_PATH, os.path.join(\"..\", 'input'), target_is_directory=True)\n",
        "except FileExistsError:\n",
        "  pass\n",
        "try:\n",
        "  os.symlink(KAGGLE_WORKING_PATH, os.path.join(\"..\", 'working'), target_is_directory=True)\n",
        "except FileExistsError:\n",
        "  pass\n",
        "\n",
        "for data_source_mapping in DATA_SOURCE_MAPPING.split(','):\n",
        "    directory, download_url_encoded = data_source_mapping.split(':')\n",
        "    download_url = unquote(download_url_encoded)\n",
        "    filename = urlparse(download_url).path\n",
        "    destination_path = os.path.join(KAGGLE_INPUT_PATH, directory)\n",
        "    try:\n",
        "        with urlopen(download_url) as fileres, NamedTemporaryFile() as tfile:\n",
        "            total_length = fileres.headers['content-length']\n",
        "            print(f'Downloading {directory}, {total_length} bytes compressed')\n",
        "            dl = 0\n",
        "            data = fileres.read(CHUNK_SIZE)\n",
        "            while len(data) > 0:\n",
        "                dl += len(data)\n",
        "                tfile.write(data)\n",
        "                done = int(50 * dl / int(total_length))\n",
        "                sys.stdout.write(f\"\\r[{'=' * done}{' ' * (50-done)}] {dl} bytes downloaded\")\n",
        "                sys.stdout.flush()\n",
        "                data = fileres.read(CHUNK_SIZE)\n",
        "            if filename.endswith('.zip'):\n",
        "              with ZipFile(tfile) as zfile:\n",
        "                zfile.extractall(destination_path)\n",
        "            else:\n",
        "              with tarfile.open(tfile.name) as tarfile:\n",
        "                tarfile.extractall(destination_path)\n",
        "            print(f'\\nDownloaded and uncompressed: {directory}')\n",
        "    except HTTPError as e:\n",
        "        print(f'Failed to load (likely expired) {download_url} to path {destination_path}')\n",
        "        continue\n",
        "    except OSError as e:\n",
        "        print(f'Failed to load {download_url} to path {destination_path}')\n",
        "        continue\n",
        "\n",
        "print('Data source import complete.')\n"
      ]
    },
    {
      "cell_type": "markdown",
      "metadata": {
        "id": "OpIMRIGxUwq_"
      },
      "source": [
        "# Skin Disease classification using CNN Algorithm"
      ]
    },
    {
      "cell_type": "markdown",
      "metadata": {
        "id": "WsLIK7vzUwrA"
      },
      "source": [
        "# Import Libraries"
      ]
    },
    {
      "cell_type": "code",
      "execution_count": 4,
      "metadata": {
        "execution": {
          "iopub.execute_input": "2023-05-04T17:49:56.765378Z",
          "iopub.status.busy": "2023-05-04T17:49:56.764293Z",
          "iopub.status.idle": "2023-05-04T17:50:05.920232Z",
          "shell.execute_reply": "2023-05-04T17:50:05.918937Z",
          "shell.execute_reply.started": "2023-05-04T17:49:56.76533Z"
        },
        "id": "QlFu9cN9UwrA",
        "trusted": true
      },
      "outputs": [],
      "source": [
        "import numpy as np\n",
        "from tensorflow.keras.optimizers import Adam\n",
        "from tensorflow.keras.utils import to_categorical\n",
        "from keras.layers import Activation, Dropout, Convolution2D, GlobalAveragePooling2D\n",
        "from keras.models import Sequential\n",
        "import tensorflow as tf\n",
        "import tensorflow.keras.applications.mobilenet\n",
        "import os"
      ]
    },
    {
      "cell_type": "code",
      "execution_count": 5,
      "metadata": {
        "execution": {
          "iopub.execute_input": "2023-05-04T17:50:05.92341Z",
          "iopub.status.busy": "2023-05-04T17:50:05.922722Z",
          "iopub.status.idle": "2023-05-04T17:50:05.928725Z",
          "shell.execute_reply": "2023-05-04T17:50:05.927556Z",
          "shell.execute_reply.started": "2023-05-04T17:50:05.923374Z"
        },
        "id": "A15M_98vUwrA",
        "trusted": true
      },
      "outputs": [],
      "source": [
        "IMG_SAVE_PATH = r'/kaggle/input/skin-disease-classification-image-dataset/Split_smol/train'"
      ]
    },
    {
      "cell_type": "code",
      "execution_count": 6,
      "metadata": {
        "execution": {
          "iopub.execute_input": "2023-05-04T17:50:05.930902Z",
          "iopub.status.busy": "2023-05-04T17:50:05.930526Z",
          "iopub.status.idle": "2023-05-04T17:50:05.939832Z",
          "shell.execute_reply": "2023-05-04T17:50:05.938821Z",
          "shell.execute_reply.started": "2023-05-04T17:50:05.930868Z"
        },
        "id": "hOVna78_UwrA",
        "trusted": true
      },
      "outputs": [],
      "source": [
        "Str_to_Int = {\n",
        "    'Actinic keratosis': 0,\n",
        "    'Atopic Dermatitis': 1,\n",
        "    'Benign keratosis': 2,\n",
        "    'Dermatofibroma': 3,\n",
        "    'Melanocytic nevus': 4,\n",
        "    'Melanoma':5,\n",
        "    'Squamous cell carcinoma': 6,\n",
        "    'Tinea Ringworm Candidiasis':7,\n",
        "    'Vascular lesion': 8\n",
        "}\n",
        "\n",
        "NUM_CLASSES = 9\n",
        "\n",
        "\n",
        "def str_to_Int_mapper(val):\n",
        "    return Str_to_Int[val]"
      ]
    },
    {
      "cell_type": "markdown",
      "metadata": {
        "id": "k2qGm16CUwrB"
      },
      "source": [
        "# Data Preprocessing\n"
      ]
    },
    {
      "cell_type": "code",
      "execution_count": 7,
      "metadata": {
        "execution": {
          "iopub.execute_input": "2023-05-04T17:50:05.944579Z",
          "iopub.status.busy": "2023-05-04T17:50:05.94409Z",
          "iopub.status.idle": "2023-05-04T17:50:20.806819Z",
          "shell.execute_reply": "2023-05-04T17:50:20.805522Z",
          "shell.execute_reply.started": "2023-05-04T17:50:05.944535Z"
        },
        "id": "qAmr_Q8IUwrB",
        "jupyter": {
          "source_hidden": true
        },
        "trusted": true
      },
      "outputs": [],
      "source": [
        "import PIL\n",
        "import cv2\n",
        "\n",
        "dataset = []\n",
        "for directory in os.listdir(IMG_SAVE_PATH):\n",
        "    path = os.path.join(IMG_SAVE_PATH, directory)\n",
        "    for image in os.listdir(path):\n",
        "        new_path = os.path.join(path, image)\n",
        "        try:\n",
        "            imgpath=PIL.Image.open(new_path)\n",
        "            #if imgpath.shape!=(240,240,3):\n",
        "            imgpath=imgpath.convert('RGB')\n",
        "            img = np.asarray(imgpath)\n",
        "            img = cv2.resize(img, (240,240))\n",
        "            img=img/255.\n",
        "            dataset.append([img, directory])\n",
        "        except FileNotFoundError:\n",
        "            print('Image file not found. Skipping...')"
      ]
    },
    {
      "cell_type": "code",
      "execution_count": 8,
      "metadata": {
        "execution": {
          "iopub.execute_input": "2023-05-04T17:50:20.810938Z",
          "iopub.status.busy": "2023-05-04T17:50:20.810472Z",
          "iopub.status.idle": "2023-05-04T17:50:20.81684Z",
          "shell.execute_reply": "2023-05-04T17:50:20.81593Z",
          "shell.execute_reply.started": "2023-05-04T17:50:20.810899Z"
        },
        "id": "Qo6mbr68UwrB",
        "trusted": true
      },
      "outputs": [],
      "source": [
        "data, labels = zip(*dataset)\n",
        "temp = list(map(str_to_Int_mapper, labels))"
      ]
    },
    {
      "cell_type": "code",
      "execution_count": 9,
      "metadata": {
        "colab": {
          "base_uri": "https://localhost:8080/"
        },
        "execution": {
          "iopub.execute_input": "2023-05-04T17:50:20.81892Z",
          "iopub.status.busy": "2023-05-04T17:50:20.818072Z",
          "iopub.status.idle": "2023-05-04T17:50:20.829208Z",
          "shell.execute_reply": "2023-05-04T17:50:20.827994Z",
          "shell.execute_reply.started": "2023-05-04T17:50:20.818884Z"
        },
        "id": "ONI0eu1HUwrB",
        "outputId": "d245dba7-d666-43b0-877b-2d86c9bc1435",
        "trusted": true
      },
      "outputs": [
        {
          "data": {
            "text/plain": [
              "array([[[0.95686275, 0.85098039, 0.81960784],\n",
              "        [0.95686275, 0.85098039, 0.81960784],\n",
              "        [0.95686275, 0.85098039, 0.81960784],\n",
              "        ...,\n",
              "        [0.94901961, 0.83529412, 0.78823529],\n",
              "        [0.94901961, 0.83529412, 0.78823529],\n",
              "        [0.94901961, 0.83529412, 0.78823529]],\n",
              "\n",
              "       [[0.95686275, 0.85098039, 0.81960784],\n",
              "        [0.95686275, 0.85098039, 0.81960784],\n",
              "        [0.95686275, 0.85098039, 0.81960784],\n",
              "        ...,\n",
              "        [0.94509804, 0.82745098, 0.78431373],\n",
              "        [0.94117647, 0.82745098, 0.78431373],\n",
              "        [0.94117647, 0.82745098, 0.78431373]],\n",
              "\n",
              "       [[0.95686275, 0.85490196, 0.82352941],\n",
              "        [0.95686275, 0.85490196, 0.82352941],\n",
              "        [0.95686275, 0.85490196, 0.81960784],\n",
              "        ...,\n",
              "        [0.93333333, 0.81960784, 0.77647059],\n",
              "        [0.93333333, 0.81960784, 0.77647059],\n",
              "        [0.93333333, 0.81960784, 0.77647059]],\n",
              "\n",
              "       ...,\n",
              "\n",
              "       [[0.79607843, 0.69803922, 0.65882353],\n",
              "        [0.79607843, 0.69803922, 0.65882353],\n",
              "        [0.79607843, 0.70196078, 0.6627451 ],\n",
              "        ...,\n",
              "        [0.77254902, 0.64705882, 0.59607843],\n",
              "        [0.77254902, 0.64705882, 0.59607843],\n",
              "        [0.77254902, 0.64705882, 0.59607843]],\n",
              "\n",
              "       [[0.80392157, 0.70588235, 0.67058824],\n",
              "        [0.80392157, 0.70588235, 0.67058824],\n",
              "        [0.80392157, 0.70980392, 0.67058824],\n",
              "        ...,\n",
              "        [0.76470588, 0.63921569, 0.59215686],\n",
              "        [0.76078431, 0.63921569, 0.59215686],\n",
              "        [0.76078431, 0.63921569, 0.59215686]],\n",
              "\n",
              "       [[0.80784314, 0.71372549, 0.67843137],\n",
              "        [0.80784314, 0.71372549, 0.67843137],\n",
              "        [0.80784314, 0.71372549, 0.67843137],\n",
              "        ...,\n",
              "        [0.75686275, 0.63529412, 0.58823529],\n",
              "        [0.75686275, 0.63529412, 0.58823529],\n",
              "        [0.75686275, 0.63529412, 0.58823529]]])"
            ]
          },
          "execution_count": 9,
          "metadata": {},
          "output_type": "execute_result"
        }
      ],
      "source": [
        "data[0]"
      ]
    },
    {
      "cell_type": "code",
      "execution_count": 10,
      "metadata": {
        "execution": {
          "iopub.execute_input": "2023-05-04T17:50:20.831949Z",
          "iopub.status.busy": "2023-05-04T17:50:20.831497Z",
          "iopub.status.idle": "2023-05-04T17:50:20.841689Z",
          "shell.execute_reply": "2023-05-04T17:50:20.84072Z",
          "shell.execute_reply.started": "2023-05-04T17:50:20.831914Z"
        },
        "id": "u8Iw0nJ_UwrB",
        "trusted": true
      },
      "outputs": [],
      "source": [
        "import keras\n",
        "labels = keras.utils.to_categorical(temp)"
      ]
    },
    {
      "cell_type": "code",
      "execution_count": 11,
      "metadata": {
        "colab": {
          "base_uri": "https://localhost:8080/"
        },
        "execution": {
          "iopub.execute_input": "2023-05-04T17:50:20.844003Z",
          "iopub.status.busy": "2023-05-04T17:50:20.842973Z",
          "iopub.status.idle": "2023-05-04T17:50:20.853571Z",
          "shell.execute_reply": "2023-05-04T17:50:20.852257Z",
          "shell.execute_reply.started": "2023-05-04T17:50:20.843957Z"
        },
        "id": "lAbOySTxUwrB",
        "outputId": "aacfd977-47da-4061-c7f3-127872353d9d",
        "trusted": true
      },
      "outputs": [
        {
          "name": "stdout",
          "output_type": "stream",
          "text": [
            "0\n"
          ]
        }
      ],
      "source": [
        "count=0\n",
        "for i in data:\n",
        "    if i.shape!=(240, 240, 3):\n",
        "        count=count+1\n",
        "print(count)"
      ]
    },
    {
      "cell_type": "markdown",
      "metadata": {
        "id": "_fbugfE1UwrC"
      },
      "source": [
        "# CNN"
      ]
    },
    {
      "cell_type": "code",
      "execution_count": 12,
      "metadata": {
        "execution": {
          "iopub.execute_input": "2023-05-04T17:50:20.855602Z",
          "iopub.status.busy": "2023-05-04T17:50:20.854814Z",
          "iopub.status.idle": "2023-05-04T17:50:20.865815Z",
          "shell.execute_reply": "2023-05-04T17:50:20.864811Z",
          "shell.execute_reply.started": "2023-05-04T17:50:20.855553Z"
        },
        "id": "j3ZU7RUnUwrC",
        "trusted": true
      },
      "outputs": [],
      "source": [
        "def cnn():\n",
        "    model=Sequential()\n",
        "\n",
        "    model.add(Conv2D(8, kernel_size=(3,3), activation='relu', input_shape=(240,240,3)))\n",
        "    model.add(Conv2D(16, kernel_size=(3,3), activation='relu'))\n",
        "    model.add(MaxPooling2D(pool_size=(2, 2)))\n",
        "    model.add(Dropout(0.25))\n",
        "\n",
        "    model.add(Conv2D(32, kernel_size=(3, 3), activation='relu'))\n",
        "    model.add(MaxPooling2D(pool_size=(2, 2)))\n",
        "    model.add(Conv2D(32, kernel_size=(3, 3), activation='relu'))\n",
        "    model.add(MaxPooling2D(pool_size=(2, 2)))\n",
        "    model.add(Dropout(0.25))\n",
        "\n",
        "    model.add(Flatten())\n",
        "    model.add(Dense(64, activation='relu'))\n",
        "    model.add(Dropout(0.5))\n",
        "    model.add(Dense(9, activation='softmax'))\n",
        "\n",
        "    return model"
      ]
    },
    {
      "cell_type": "code",
      "execution_count": 13,
      "metadata": {
        "execution": {
          "iopub.execute_input": "2023-05-04T17:50:20.870045Z",
          "iopub.status.busy": "2023-05-04T17:50:20.869517Z",
          "iopub.status.idle": "2023-05-04T17:50:21.175897Z",
          "shell.execute_reply": "2023-05-04T17:50:21.174659Z",
          "shell.execute_reply.started": "2023-05-04T17:50:20.870007Z"
        },
        "id": "SwoBCtEAUwrC",
        "trusted": true
      },
      "outputs": [],
      "source": [
        "from keras.layers import Dense , Dropout , Conv2D , MaxPooling2D, Flatten\n",
        "model_cnn=cnn()\n",
        "model_cnn.compile(\n",
        "    optimizer=Adam(learning_rate=0.0001),         # lr = learning_rate\n",
        "    loss='categorical_crossentropy',   # Multi-class classification\n",
        "    metrics=['accuracy']\n",
        ")"
      ]
    },
    {
      "cell_type": "code",
      "execution_count": 14,
      "metadata": {
        "colab": {
          "base_uri": "https://localhost:8080/"
        },
        "execution": {
          "iopub.execute_input": "2023-05-04T17:50:21.178123Z",
          "iopub.status.busy": "2023-05-04T17:50:21.17768Z",
          "iopub.status.idle": "2023-05-04T17:50:21.225411Z",
          "shell.execute_reply": "2023-05-04T17:50:21.224245Z",
          "shell.execute_reply.started": "2023-05-04T17:50:21.178065Z"
        },
        "id": "YvhU6mfXUwrC",
        "outputId": "4e5ccffb-bc6d-4d6d-ebc4-aab0f49ecb54",
        "trusted": true
      },
      "outputs": [
        {
          "name": "stdout",
          "output_type": "stream",
          "text": [
            "Model: \"sequential\"\n",
            "_________________________________________________________________\n",
            " Layer (type)                Output Shape              Param #   \n",
            "=================================================================\n",
            " conv2d (Conv2D)             (None, 238, 238, 8)       224       \n",
            "                                                                 \n",
            " conv2d_1 (Conv2D)           (None, 236, 236, 16)      1168      \n",
            "                                                                 \n",
            " max_pooling2d (MaxPooling2  (None, 118, 118, 16)      0         \n",
            " D)                                                              \n",
            "                                                                 \n",
            " dropout (Dropout)           (None, 118, 118, 16)      0         \n",
            "                                                                 \n",
            " conv2d_2 (Conv2D)           (None, 116, 116, 32)      4640      \n",
            "                                                                 \n",
            " max_pooling2d_1 (MaxPoolin  (None, 58, 58, 32)        0         \n",
            " g2D)                                                            \n",
            "                                                                 \n",
            " conv2d_3 (Conv2D)           (None, 56, 56, 32)        9248      \n",
            "                                                                 \n",
            " max_pooling2d_2 (MaxPoolin  (None, 28, 28, 32)        0         \n",
            " g2D)                                                            \n",
            "                                                                 \n",
            " dropout_1 (Dropout)         (None, 28, 28, 32)        0         \n",
            "                                                                 \n",
            " flatten (Flatten)           (None, 25088)             0         \n",
            "                                                                 \n",
            " dense (Dense)               (None, 64)                1605696   \n",
            "                                                                 \n",
            " dropout_2 (Dropout)         (None, 64)                0         \n",
            "                                                                 \n",
            " dense_1 (Dense)             (None, 9)                 585       \n",
            "                                                                 \n",
            "=================================================================\n",
            "Total params: 1621561 (6.19 MB)\n",
            "Trainable params: 1621561 (6.19 MB)\n",
            "Non-trainable params: 0 (0.00 Byte)\n",
            "_________________________________________________________________\n"
          ]
        }
      ],
      "source": [
        "model_cnn.summary()"
      ]
    },
    {
      "cell_type": "code",
      "execution_count": 16,
      "metadata": {
        "colab": {
          "base_uri": "https://localhost:8080/"
        },
        "execution": {
          "iopub.execute_input": "2023-05-04T17:50:21.227174Z",
          "iopub.status.busy": "2023-05-04T17:50:21.226816Z",
          "iopub.status.idle": "2023-05-04T17:52:29.097732Z",
          "shell.execute_reply": "2023-05-04T17:52:29.096124Z",
          "shell.execute_reply.started": "2023-05-04T17:50:21.227139Z"
        },
        "id": "IyFo-G-NUwrC",
        "outputId": "217a6478-f3ec-49ae-b99c-2b1f2b7f13fd",
        "scrolled": true,
        "trusted": true
      },
      "outputs": [
        {
          "name": "stdout",
          "output_type": "stream",
          "text": [
            "Epoch 1/50\n",
            "17/17 [==============================] - 2s 97ms/step - loss: 1.9429 - accuracy: 0.2433 - val_loss: 2.5859 - val_accuracy: 0.0229\n",
            "Epoch 2/50\n",
            "17/17 [==============================] - 1s 70ms/step - loss: 1.8840 - accuracy: 0.2433 - val_loss: 2.7112 - val_accuracy: 0.0286\n",
            "Epoch 3/50\n",
            "17/17 [==============================] - 1s 69ms/step - loss: 1.8241 - accuracy: 0.2644 - val_loss: 2.6761 - val_accuracy: 0.0400\n",
            "Epoch 4/50\n",
            "17/17 [==============================] - 1s 68ms/step - loss: 1.7528 - accuracy: 0.3295 - val_loss: 2.7359 - val_accuracy: 0.0400\n",
            "Epoch 5/50\n",
            "17/17 [==============================] - 1s 72ms/step - loss: 1.7904 - accuracy: 0.3027 - val_loss: 2.6537 - val_accuracy: 0.0343\n",
            "Epoch 6/50\n",
            "17/17 [==============================] - 1s 72ms/step - loss: 1.7395 - accuracy: 0.3180 - val_loss: 2.7692 - val_accuracy: 0.0400\n",
            "Epoch 7/50\n",
            "17/17 [==============================] - 1s 77ms/step - loss: 1.6963 - accuracy: 0.3391 - val_loss: 2.9211 - val_accuracy: 0.0400\n",
            "Epoch 8/50\n",
            "17/17 [==============================] - 1s 75ms/step - loss: 1.6723 - accuracy: 0.3506 - val_loss: 2.7576 - val_accuracy: 0.0400\n",
            "Epoch 9/50\n",
            "17/17 [==============================] - 1s 74ms/step - loss: 1.6551 - accuracy: 0.3563 - val_loss: 2.8668 - val_accuracy: 0.0400\n",
            "Epoch 10/50\n",
            "17/17 [==============================] - 1s 71ms/step - loss: 1.5965 - accuracy: 0.3966 - val_loss: 2.9942 - val_accuracy: 0.0400\n",
            "Epoch 11/50\n",
            "17/17 [==============================] - 1s 71ms/step - loss: 1.5696 - accuracy: 0.3946 - val_loss: 3.0206 - val_accuracy: 0.0400\n",
            "Epoch 12/50\n",
            "17/17 [==============================] - 1s 71ms/step - loss: 1.5586 - accuracy: 0.3851 - val_loss: 3.0521 - val_accuracy: 0.0400\n",
            "Epoch 13/50\n",
            "17/17 [==============================] - 1s 75ms/step - loss: 1.5317 - accuracy: 0.4119 - val_loss: 2.9658 - val_accuracy: 0.0457\n",
            "Epoch 14/50\n",
            "17/17 [==============================] - 1s 76ms/step - loss: 1.4971 - accuracy: 0.4540 - val_loss: 3.0775 - val_accuracy: 0.0571\n",
            "Epoch 15/50\n",
            "17/17 [==============================] - 1s 74ms/step - loss: 1.3886 - accuracy: 0.4770 - val_loss: 3.3051 - val_accuracy: 0.0343\n",
            "Epoch 16/50\n",
            "17/17 [==============================] - 1s 74ms/step - loss: 1.3617 - accuracy: 0.4655 - val_loss: 3.2687 - val_accuracy: 0.0571\n",
            "Epoch 17/50\n",
            "17/17 [==============================] - 1s 82ms/step - loss: 1.3444 - accuracy: 0.4655 - val_loss: 3.4844 - val_accuracy: 0.0400\n",
            "Epoch 18/50\n",
            "17/17 [==============================] - 1s 74ms/step - loss: 1.3857 - accuracy: 0.4751 - val_loss: 3.4052 - val_accuracy: 0.0343\n",
            "Epoch 19/50\n",
            "17/17 [==============================] - 1s 72ms/step - loss: 1.2866 - accuracy: 0.5172 - val_loss: 3.6670 - val_accuracy: 0.0400\n",
            "Epoch 20/50\n",
            "17/17 [==============================] - 1s 72ms/step - loss: 1.2405 - accuracy: 0.5287 - val_loss: 3.7663 - val_accuracy: 0.0400\n",
            "Epoch 21/50\n",
            "17/17 [==============================] - 1s 72ms/step - loss: 1.2435 - accuracy: 0.4770 - val_loss: 3.6899 - val_accuracy: 0.0457\n",
            "Epoch 22/50\n",
            "17/17 [==============================] - 1s 72ms/step - loss: 1.3251 - accuracy: 0.4732 - val_loss: 3.3636 - val_accuracy: 0.0514\n",
            "Epoch 23/50\n",
            "17/17 [==============================] - 1s 72ms/step - loss: 1.2128 - accuracy: 0.5249 - val_loss: 3.7041 - val_accuracy: 0.0457\n",
            "Epoch 24/50\n",
            "17/17 [==============================] - 1s 72ms/step - loss: 1.2420 - accuracy: 0.5000 - val_loss: 3.7952 - val_accuracy: 0.0457\n",
            "Epoch 25/50\n",
            "17/17 [==============================] - 1s 72ms/step - loss: 1.1791 - accuracy: 0.5211 - val_loss: 3.7970 - val_accuracy: 0.0457\n",
            "Epoch 26/50\n",
            "17/17 [==============================] - 1s 76ms/step - loss: 1.1821 - accuracy: 0.5517 - val_loss: 3.9206 - val_accuracy: 0.0457\n",
            "Epoch 27/50\n",
            "17/17 [==============================] - 1s 81ms/step - loss: 1.1819 - accuracy: 0.5345 - val_loss: 3.8831 - val_accuracy: 0.0457\n",
            "Epoch 28/50\n",
            "17/17 [==============================] - 1s 73ms/step - loss: 1.2249 - accuracy: 0.5172 - val_loss: 3.6225 - val_accuracy: 0.0457\n",
            "Epoch 29/50\n",
            "17/17 [==============================] - 1s 76ms/step - loss: 1.1485 - accuracy: 0.5594 - val_loss: 3.9935 - val_accuracy: 0.0457\n",
            "Epoch 30/50\n",
            "17/17 [==============================] - 1s 74ms/step - loss: 1.1402 - accuracy: 0.5421 - val_loss: 4.0950 - val_accuracy: 0.0457\n",
            "Epoch 31/50\n",
            "17/17 [==============================] - 1s 76ms/step - loss: 1.1440 - accuracy: 0.5613 - val_loss: 3.8749 - val_accuracy: 0.0343\n",
            "Epoch 32/50\n",
            "17/17 [==============================] - 1s 77ms/step - loss: 1.0593 - accuracy: 0.5747 - val_loss: 4.2747 - val_accuracy: 0.0457\n",
            "Epoch 33/50\n",
            "17/17 [==============================] - 1s 74ms/step - loss: 1.1091 - accuracy: 0.5498 - val_loss: 4.3713 - val_accuracy: 0.0457\n",
            "Epoch 34/50\n",
            "17/17 [==============================] - 1s 74ms/step - loss: 1.0436 - accuracy: 0.6092 - val_loss: 4.2852 - val_accuracy: 0.0457\n",
            "Epoch 35/50\n",
            "17/17 [==============================] - 1s 75ms/step - loss: 1.0470 - accuracy: 0.6015 - val_loss: 4.3277 - val_accuracy: 0.0457\n",
            "Epoch 36/50\n",
            "17/17 [==============================] - 1s 80ms/step - loss: 1.0552 - accuracy: 0.5824 - val_loss: 4.4466 - val_accuracy: 0.0457\n",
            "Epoch 37/50\n",
            "17/17 [==============================] - 1s 76ms/step - loss: 1.0140 - accuracy: 0.6130 - val_loss: 4.5513 - val_accuracy: 0.0457\n",
            "Epoch 38/50\n",
            "17/17 [==============================] - 1s 74ms/step - loss: 1.0143 - accuracy: 0.6034 - val_loss: 4.4913 - val_accuracy: 0.0400\n",
            "Epoch 39/50\n",
            "17/17 [==============================] - 1s 75ms/step - loss: 1.0541 - accuracy: 0.5996 - val_loss: 4.4943 - val_accuracy: 0.0457\n",
            "Epoch 40/50\n",
            "17/17 [==============================] - 1s 74ms/step - loss: 1.0201 - accuracy: 0.5977 - val_loss: 4.5847 - val_accuracy: 0.0457\n",
            "Epoch 41/50\n",
            "17/17 [==============================] - 1s 77ms/step - loss: 1.0611 - accuracy: 0.5766 - val_loss: 4.5701 - val_accuracy: 0.0457\n",
            "Epoch 42/50\n",
            "17/17 [==============================] - 1s 77ms/step - loss: 0.9868 - accuracy: 0.5900 - val_loss: 4.4934 - val_accuracy: 0.0457\n",
            "Epoch 43/50\n",
            "17/17 [==============================] - 1s 74ms/step - loss: 0.9983 - accuracy: 0.5881 - val_loss: 4.5934 - val_accuracy: 0.0400\n",
            "Epoch 44/50\n",
            "17/17 [==============================] - 1s 78ms/step - loss: 1.0008 - accuracy: 0.6188 - val_loss: 4.7200 - val_accuracy: 0.0457\n",
            "Epoch 45/50\n",
            "17/17 [==============================] - 2s 91ms/step - loss: 0.9491 - accuracy: 0.6111 - val_loss: 4.7111 - val_accuracy: 0.0400\n",
            "Epoch 46/50\n",
            "17/17 [==============================] - 1s 82ms/step - loss: 0.9132 - accuracy: 0.6322 - val_loss: 4.9147 - val_accuracy: 0.0400\n",
            "Epoch 47/50\n",
            "17/17 [==============================] - 1s 75ms/step - loss: 0.9050 - accuracy: 0.6456 - val_loss: 5.1678 - val_accuracy: 0.0457\n",
            "Epoch 48/50\n",
            "17/17 [==============================] - 1s 75ms/step - loss: 0.9532 - accuracy: 0.6245 - val_loss: 4.9391 - val_accuracy: 0.0457\n",
            "Epoch 49/50\n",
            "17/17 [==============================] - 1s 75ms/step - loss: 0.9215 - accuracy: 0.6494 - val_loss: 4.7743 - val_accuracy: 0.0400\n",
            "Epoch 50/50\n",
            "17/17 [==============================] - 1s 75ms/step - loss: 0.9006 - accuracy: 0.6398 - val_loss: 5.0730 - val_accuracy: 0.0457\n"
          ]
        }
      ],
      "source": [
        "history_cnn=model_cnn.fit(np.array(data), np.array(labels), epochs = 50, shuffle = True, validation_split = 0.25)"
      ]
    },
    {
      "cell_type": "markdown",
      "metadata": {
        "id": "pBaaoTTmUwrC"
      },
      "source": [
        "# Save model"
      ]
    },
    {
      "cell_type": "code",
      "execution_count": 17,
      "metadata": {
        "colab": {
          "base_uri": "https://localhost:8080/"
        },
        "execution": {
          "iopub.execute_input": "2023-05-04T17:52:29.099922Z",
          "iopub.status.busy": "2023-05-04T17:52:29.099471Z",
          "iopub.status.idle": "2023-05-04T17:52:29.170911Z",
          "shell.execute_reply": "2023-05-04T17:52:29.169683Z",
          "shell.execute_reply.started": "2023-05-04T17:52:29.099873Z"
        },
        "id": "42Cm46OqUwrD",
        "outputId": "dbc7ccb4-7c9d-43cd-916d-62b9035f41f5",
        "trusted": true
      },
      "outputs": [
        {
          "name": "stderr",
          "output_type": "stream",
          "text": [
            "/usr/local/lib/python3.10/dist-packages/keras/src/engine/training.py:3103: UserWarning: You are saving your model as an HDF5 file via `model.save()`. This file format is considered legacy. We recommend using instead the native Keras format, e.g. `model.save('my_model.keras')`.\n",
            "  saving_api.save_model(\n"
          ]
        }
      ],
      "source": [
        "# save the model for later use\n",
        "model_cnn.save(\"skin_disease_model_ISIC_densenet.h5\")"
      ]
    },
    {
      "cell_type": "markdown",
      "metadata": {
        "id": "-vpWMZHrUwrD"
      },
      "source": [
        "# Evaluate Models"
      ]
    },
    {
      "cell_type": "code",
      "execution_count": 18,
      "metadata": {
        "execution": {
          "iopub.execute_input": "2023-05-04T17:52:29.172622Z",
          "iopub.status.busy": "2023-05-04T17:52:29.172256Z",
          "iopub.status.idle": "2023-05-04T17:52:29.17776Z",
          "shell.execute_reply": "2023-05-04T17:52:29.176503Z",
          "shell.execute_reply.started": "2023-05-04T17:52:29.172588Z"
        },
        "id": "kRvWenooUwrD",
        "trusted": true
      },
      "outputs": [],
      "source": [
        "IMG_SAVE_PATH_TESTING = r'/kaggle/input/skin-disease-classification-image-dataset/Split_smol/val'"
      ]
    },
    {
      "cell_type": "code",
      "execution_count": 19,
      "metadata": {
        "execution": {
          "iopub.execute_input": "2023-05-04T17:52:29.179396Z",
          "iopub.status.busy": "2023-05-04T17:52:29.178977Z",
          "iopub.status.idle": "2023-05-04T17:52:33.061604Z",
          "shell.execute_reply": "2023-05-04T17:52:33.060498Z",
          "shell.execute_reply.started": "2023-05-04T17:52:29.179352Z"
        },
        "id": "UyjJuL3iUwrD",
        "trusted": true
      },
      "outputs": [],
      "source": [
        "import PIL\n",
        "import cv2\n",
        "dataset_testing = []\n",
        "for directory in os.listdir(IMG_SAVE_PATH_TESTING):\n",
        "    path = os.path.join(IMG_SAVE_PATH_TESTING, directory)\n",
        "    for image in os.listdir(path):\n",
        "        new_path = os.path.join(path, image)\n",
        "        imgpath=PIL.Image.open(new_path)\n",
        "        #if imgpath.shape!=(240,240,3):\n",
        "        imgpath=imgpath.convert('RGB')\n",
        "        img = np.asarray(imgpath)\n",
        "#         img = cv2.imread(new_path)\n",
        "#         img = cv2.cvtColor(img, cv2.COLOR_BGR2RGB)\n",
        "        img = cv2.resize(img, (240, 240))\n",
        "        img=img/255.\n",
        "        dataset_testing.append([img, directory])"
      ]
    },
    {
      "cell_type": "code",
      "execution_count": 20,
      "metadata": {
        "execution": {
          "iopub.execute_input": "2023-05-04T17:52:33.063116Z",
          "iopub.status.busy": "2023-05-04T17:52:33.062801Z",
          "iopub.status.idle": "2023-05-04T17:52:33.06861Z",
          "shell.execute_reply": "2023-05-04T17:52:33.067351Z",
          "shell.execute_reply.started": "2023-05-04T17:52:33.063084Z"
        },
        "id": "rnzudT9dUwrD",
        "trusted": true
      },
      "outputs": [],
      "source": [
        "testing_data, testing_labels = zip(*dataset_testing)\n",
        "testing_temp = list(map(str_to_Int_mapper, testing_labels))"
      ]
    },
    {
      "cell_type": "code",
      "execution_count": 21,
      "metadata": {
        "execution": {
          "iopub.execute_input": "2023-05-04T17:52:33.07136Z",
          "iopub.status.busy": "2023-05-04T17:52:33.070256Z",
          "iopub.status.idle": "2023-05-04T17:52:33.079698Z",
          "shell.execute_reply": "2023-05-04T17:52:33.078508Z",
          "shell.execute_reply.started": "2023-05-04T17:52:33.071311Z"
        },
        "id": "e1aKNUgOUwrD",
        "trusted": true
      },
      "outputs": [],
      "source": [
        "import keras\n",
        "testing_labels = keras.utils.to_categorical(testing_temp)"
      ]
    },
    {
      "cell_type": "code",
      "execution_count": 22,
      "metadata": {
        "colab": {
          "base_uri": "https://localhost:8080/"
        },
        "execution": {
          "iopub.execute_input": "2023-05-04T17:52:33.08197Z",
          "iopub.status.busy": "2023-05-04T17:52:33.081268Z",
          "iopub.status.idle": "2023-05-04T17:52:35.235221Z",
          "shell.execute_reply": "2023-05-04T17:52:35.233914Z",
          "shell.execute_reply.started": "2023-05-04T17:52:33.081919Z"
        },
        "id": "RuoA_HAqUwrD",
        "outputId": "1b1c53b2-97a3-4c3a-8416-15000e930625",
        "trusted": true
      },
      "outputs": [
        {
          "name": "stdout",
          "output_type": "stream",
          "text": [
            "6/6 [==============================] - 1s 115ms/step - loss: 1.9817 - accuracy: 0.4862\n"
          ]
        },
        {
          "data": {
            "text/plain": [
              "[1.9817255735397339, 0.4861878454685211]"
            ]
          },
          "execution_count": 22,
          "metadata": {},
          "output_type": "execute_result"
        }
      ],
      "source": [
        "model_cnn.evaluate(np.array(testing_data), np.array(testing_labels))"
      ]
    },
    {
      "cell_type": "code",
      "execution_count": 26,
      "metadata": {
        "colab": {
          "base_uri": "https://localhost:8080/"
        },
        "id": "tXA_aFUtV9uQ",
        "outputId": "d646230f-e17c-4d48-dbb6-ec969e1072ef"
      },
      "outputs": [
        {
          "name": "stdout",
          "output_type": "stream",
          "text": [
            "Collecting scikit-plot\n",
            "  Downloading scikit_plot-0.3.7-py3-none-any.whl (33 kB)\n",
            "Requirement already satisfied: matplotlib>=1.4.0 in /usr/local/lib/python3.10/dist-packages (from scikit-plot) (3.7.1)\n",
            "Requirement already satisfied: scikit-learn>=0.18 in /usr/local/lib/python3.10/dist-packages (from scikit-plot) (1.2.2)\n",
            "Requirement already satisfied: scipy>=0.9 in /usr/local/lib/python3.10/dist-packages (from scikit-plot) (1.11.4)\n",
            "Requirement already satisfied: joblib>=0.10 in /usr/local/lib/python3.10/dist-packages (from scikit-plot) (1.3.2)\n",
            "Requirement already satisfied: contourpy>=1.0.1 in /usr/local/lib/python3.10/dist-packages (from matplotlib>=1.4.0->scikit-plot) (1.2.0)\n",
            "Requirement already satisfied: cycler>=0.10 in /usr/local/lib/python3.10/dist-packages (from matplotlib>=1.4.0->scikit-plot) (0.12.1)\n",
            "Requirement already satisfied: fonttools>=4.22.0 in /usr/local/lib/python3.10/dist-packages (from matplotlib>=1.4.0->scikit-plot) (4.50.0)\n",
            "Requirement already satisfied: kiwisolver>=1.0.1 in /usr/local/lib/python3.10/dist-packages (from matplotlib>=1.4.0->scikit-plot) (1.4.5)\n",
            "Requirement already satisfied: numpy>=1.20 in /usr/local/lib/python3.10/dist-packages (from matplotlib>=1.4.0->scikit-plot) (1.25.2)\n",
            "Requirement already satisfied: packaging>=20.0 in /usr/local/lib/python3.10/dist-packages (from matplotlib>=1.4.0->scikit-plot) (24.0)\n",
            "Requirement already satisfied: pillow>=6.2.0 in /usr/local/lib/python3.10/dist-packages (from matplotlib>=1.4.0->scikit-plot) (9.4.0)\n",
            "Requirement already satisfied: pyparsing>=2.3.1 in /usr/local/lib/python3.10/dist-packages (from matplotlib>=1.4.0->scikit-plot) (3.1.2)\n",
            "Requirement already satisfied: python-dateutil>=2.7 in /usr/local/lib/python3.10/dist-packages (from matplotlib>=1.4.0->scikit-plot) (2.8.2)\n",
            "Requirement already satisfied: threadpoolctl>=2.0.0 in /usr/local/lib/python3.10/dist-packages (from scikit-learn>=0.18->scikit-plot) (3.3.0)\n",
            "Requirement already satisfied: six>=1.5 in /usr/local/lib/python3.10/dist-packages (from python-dateutil>=2.7->matplotlib>=1.4.0->scikit-plot) (1.16.0)\n",
            "Installing collected packages: scikit-plot\n",
            "Successfully installed scikit-plot-0.3.7\n"
          ]
        }
      ],
      "source": [
        "pip install scikit-plot"
      ]
    },
    {
      "cell_type": "markdown",
      "metadata": {
        "id": "FrCtHGcYUwrD"
      },
      "source": [
        "# Prediction"
      ]
    },
    {
      "cell_type": "code",
      "execution_count": 27,
      "metadata": {
        "execution": {
          "iopub.execute_input": "2023-05-04T17:52:35.236781Z",
          "iopub.status.busy": "2023-05-04T17:52:35.236416Z",
          "iopub.status.idle": "2023-05-04T17:52:35.732094Z",
          "shell.execute_reply": "2023-05-04T17:52:35.730979Z",
          "shell.execute_reply.started": "2023-05-04T17:52:35.23672Z"
        },
        "id": "YsvozH5zUwrE",
        "trusted": true
      },
      "outputs": [],
      "source": [
        "# Create a confusion matrix\n",
        "from sklearn.metrics import confusion_matrix\n",
        "import scikitplot\n",
        "\n",
        "# Make predictions\n",
        "def make_preds(model):\n",
        "    label_preds = model.predict(np.array(testing_data))\n",
        "\n",
        "    def one_hot_highest(arr):\n",
        "        for row in arr:\n",
        "            max_val = max(row)\n",
        "            for i in range(len(row)):\n",
        "                if row[i] == max_val:\n",
        "                    row[i] = 1\n",
        "                else:\n",
        "                    row[i] = 0\n",
        "        return arr\n",
        "\n",
        "    arr=one_hot_highest(label_preds) #one hot\n",
        "    arr2= one_hot_highest(testing_labels)\n",
        "\n",
        "    labelenc=[]\n",
        "    for i in range (0, len(arr)):\n",
        "        flag=0\n",
        "        for j in range (0,9):\n",
        "            if arr[i][j]==1:\n",
        "                labelenc.append(j)\n",
        "                flag=1\n",
        "    labelenctest=[]\n",
        "    for i in range (0, len(arr2)):\n",
        "        for j in range (0,9):\n",
        "            if arr2[i][j]==1:\n",
        "                labelenctest.append(j)\n",
        "\n",
        "    scikitplot.metrics.plot_confusion_matrix(labelenctest,labelenc)"
      ]
    },
    {
      "cell_type": "code",
      "execution_count": 28,
      "metadata": {
        "colab": {
          "base_uri": "https://localhost:8080/",
          "height": 489
        },
        "execution": {
          "iopub.execute_input": "2023-05-04T17:52:35.73374Z",
          "iopub.status.busy": "2023-05-04T17:52:35.733341Z",
          "iopub.status.idle": "2023-05-04T17:52:39.34731Z",
          "shell.execute_reply": "2023-05-04T17:52:39.346009Z",
          "shell.execute_reply.started": "2023-05-04T17:52:35.733705Z"
        },
        "id": "zVe1SdCxUwrE",
        "outputId": "0c5882a5-ac70-4125-9220-2c6f9d57b26e",
        "trusted": true
      },
      "outputs": [
        {
          "name": "stdout",
          "output_type": "stream",
          "text": [
            "6/6 [==============================] - 0s 22ms/step\n"
          ]
        },
        {
          "data": {
            "image/png": "[encoded data removed]",
            "text/plain": [
              "<Figure size 640x480 with 2 Axes>"
            ]
          },
          "metadata": {},
          "output_type": "display_data"
        }
      ],
      "source": [
        "make_preds(model_cnn)"
      ]
    },
    {
      "cell_type": "code",
      "execution_count": 30,
      "metadata": {
        "colab": {
          "base_uri": "https://localhost:8080/"
        },
        "id": "91rj4f9TWRqD",
        "outputId": "ef15c1fc-80f8-407a-ebeb-3c5f68549df6"
      },
      "outputs": [
        {
          "name": "stdout",
          "output_type": "stream",
          "text": [
            "1/1 [==============================] - 0s 77ms/step\n",
            "Image: download.jpg, Predicted class: Atopic Dermatitis\n"
          ]
        }
      ],
      "source": [
        "import numpy as np\n",
        "import os\n",
        "import cv2\n",
        "from keras.models import load_model\n",
        "from keras.preprocessing import image\n",
        "\n",
        "# Load the saved model\n",
        "model = load_model(\"/content/skin_disease_model_ISIC_densenet.h5\")\n",
        "\n",
        "# Define the mapping from class index to class name\n",
        "Int_to_Str = {\n",
        "    0: 'Actinic keratosis',\n",
        "    1: 'Atopic Dermatitis',\n",
        "    2: 'Benign keratosis',\n",
        "    3: 'Dermatofibroma',\n",
        "    4: 'Melanocytic nevus',\n",
        "    5: 'Melanoma',\n",
        "    6: 'Squamous cell carcinoma',\n",
        "    7: 'Tinea Ringworm Candidiasis',\n",
        "    8: 'Vascular lesion'\n",
        "}\n",
        "\n",
        "# Function to preprocess a single image\n",
        "def preprocess_image(img_path):\n",
        "    img = image.load_img(img_path, target_size=(240, 240))\n",
        "    img = image.img_to_array(img)\n",
        "    img = np.expand_dims(img, axis=0)\n",
        "    img = img / 255.0  # Normalize the image\n",
        "    return img\n",
        "\n",
        "# Directory containing test images\n",
        "test_dir = r'/content/TEST'\n",
        "\n",
        "# List to store predictions\n",
        "predictions = []\n",
        "\n",
        "# Iterate over test images\n",
        "for img_file in os.listdir(test_dir):\n",
        "    img_path = os.path.join(test_dir, img_file)\n",
        "    if os.path.isfile(img_path):\n",
        "        # Preprocess the image\n",
        "        img = preprocess_image(img_path)\n",
        "        # Get the model's prediction\n",
        "        pred = model.predict(img)\n",
        "        # Get the class index with the highest probability\n",
        "        pred_class_index = np.argmax(pred)\n",
        "        # Map the class index to class name\n",
        "        pred_class = Int_to_Str[pred_class_index]\n",
        "        # Append the prediction to the list\n",
        "        predictions.append((img_file, pred_class))\n",
        "\n",
        "# Print predictions\n",
        "for img_file, pred_class in predictions:\n",
        "    print(f\"Image: {img_file}, Predicted class: {pred_class}\")\n"
      ]
    },
    {
      "cell_type": "code",
      "execution_count": 2,
      "metadata": {
        "colab": {
          "base_uri": "https://localhost:8080/"
        },
        "id": "4q5T2n-ahGOi",
        "outputId": "bf30e016-0eba-45e4-9345-98ecf763ddfb"
      },
      "outputs": [
        {
          "name": "stdout",
          "output_type": "stream",
          "text": [
            "Suggestions for Atopic Dermatitis : Atopic dermatitis, or eczema, can be managed with moisturizers, corticosteroids, and avoiding triggers like certain soaps or fabrics.\n"
          ]
        }
      ],
      "source": [
        "# Define a mapping of skin diseases to suggestions\n",
        "skin_disease_suggestions = {\n",
        "    'Actinic keratosis': \"Actinic keratosis is often treated with cryotherapy or topical medications. It's important to protect your skin from sun exposure.\",\n",
        "    'Atopic Dermatitis': \"Atopic dermatitis, or eczema, can be managed with moisturizers, corticosteroids, and avoiding triggers like certain soaps or fabrics.\",\n",
        "    'Benign keratosis': \"Benign keratosis, such as seborrheic keratosis, usually doesn't require treatment unless for cosmetic reasons. Consult a dermatologist for evaluation.\",\n",
        "    'Dermatofibroma': \"Dermatofibroma is usually harmless but can be removed if it causes discomfort. Consult a dermatologist for evaluation and treatment options.\",\n",
        "    'Melanocytic nevus': \"Melanocytic nevus, commonly known as a mole, should be monitored for changes in size, shape, or color. Consult a dermatologist if you notice any changes.\",\n",
        "    'Melanoma': \"Melanoma is a serious type of skin cancer. Early detection and treatment are crucial. Consult a dermatologist immediately if you notice any suspicious moles or lesions.\",\n",
        "    'Squamous cell carcinoma': \"Squamous cell carcinoma is a type of skin cancer that usually appears as a firm, red nodule or a flat lesion with a scaly crust. Consult a dermatologist for diagnosis and treatment.\",\n",
        "    'Tinea Ringworm Candidiasis': \"Tinea, ringworm, and candidiasis are fungal skin infections that can be treated with antifungal medications. Keep the affected area clean and dry.\",\n",
        "    'Vascular lesion': \"Vascular lesions, such as hemangiomas or port-wine stains, are usually harmless but can be removed for cosmetic reasons. Consult a dermatologist for evaluation and treatment options.\"\n",
        "    # Add suggestions for other skin diseases as needed\n",
        "}\n",
        "\n",
        "# Assuming you have trained your skin disease model and made predictions stored in 'predicted_disease'\n",
        "predicted_disease = \"Atopic Dermatitis\"  # Example predicted disease\n",
        "\n",
        "# Retrieve suggestions based on the predicted disease\n",
        "if predicted_disease in skin_disease_suggestions:\n",
        "    suggestions = skin_disease_suggestions[predicted_disease]\n",
        "else:\n",
        "    suggestions = \"No specific suggestions available for the predicted skin disease.\"\n",
        "\n",
        "# Print or present suggestions to the user\n",
        "print(\"Suggestions for\", predicted_disease, \":\", suggestions)\n"
      ]
    }
  ],
  "metadata": {
    "accelerator": "GPU",
    "colab": {
      "gpuType": "T4",
      "name": "Skin Disease | CNN",
      "provenance": []
    },
    "kernelspec": {
      "display_name": "Python 3",
      "name": "python3"
    },
    "language_info": {
      "codemirror_mode": {
        "name": "ipython",
        "version": 3
      },
      "file_extension": ".py",
      "mimetype": "text/x-python",
      "name": "python",
      "nbconvert_exporter": "python",
      "pygments_lexer": "ipython3",
      "version": "3.12.1"
    }
  },
  "nbformat": 4,
  "nbformat_minor": 0
}
